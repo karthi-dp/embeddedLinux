{
 "cells": [
  {
   "cell_type": "markdown",
   "metadata": {},
   "source": [
    "## Driver\n",
    "\n",
    "Drivers are virtualized devices through which applications can interact and initiate I/O operations on the target device.\n",
    "In GPOS, drivers are part of kernel space and applications are part of user space\n",
    "\n",
    "A Driver executes in the context of the application."
   ]
  },
  {
   "cell_type": "markdown",
   "metadata": {},
   "source": [
    "## Driver Code\n",
    "\n",
    "It is divided into two parts.\n",
    "\n",
    "#### Kernel Specific code or User Interaction Code: \n",
    "Application interfaces with this code to initiate any operation.\n",
    "Therefore Windows, Linux will have different kernel specific code.\n",
    "Writing kernel specific involves kernel programming, kernel testing.\n",
    "\n",
    "#### Hardware Specific code: \n",
    "This code performs the operation on the target device.\n",
    "This code will be completely hardware specific like device/bus specific."
   ]
  },
  {
   "cell_type": "markdown",
   "metadata": {},
   "source": [
    "## User Ineraction Code can be written in three ways:\n",
    "\n",
    "These are the three different ways of allowing the application to interface with the driver.\n",
    "Character Driver Approach\n",
    "Block Driver Approach\n",
    "Network Driver Approach\n"
   ]
  },
  {
   "cell_type": "code",
   "execution_count": null,
   "metadata": {
    "collapsed": true
   },
   "outputs": [],
   "source": []
  }
 ],
 "metadata": {
  "kernelspec": {
   "display_name": "Python 3",
   "language": "python",
   "name": "python3"
  },
  "language_info": {
   "codemirror_mode": {
    "name": "ipython",
    "version": 3
   },
   "file_extension": ".py",
   "mimetype": "text/x-python",
   "name": "python",
   "nbconvert_exporter": "python",
   "pygments_lexer": "ipython3",
   "version": "3.6.3"
  }
 },
 "nbformat": 4,
 "nbformat_minor": 2
}

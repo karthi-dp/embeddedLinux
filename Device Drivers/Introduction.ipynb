{
 "cells": [
  {
   "cell_type": "markdown",
   "metadata": {},
   "source": [
    "## Driver\n",
    "\n",
    "Drivers are virtualized devices through which applications can interact and initiate I/O operations on the target device.\n",
    "In GPOS, drivers are part of kernel space and applications are part of user space\n",
    "\n",
    "A Driver executes in the context of the application."
   ]
  },
  {
   "cell_type": "markdown",
   "metadata": {},
   "source": [
    "## Driver Code\n",
    "\n",
    "It is divided into two parts.\n",
    "\n",
    "#### Kernel Specific code or User Interaction Code: \n",
    "1. Application interfaces with this code to initiate any operation.\n",
    "2. Therefore Windows, Linux will have different kernel specific code.\n",
    "3. Writing kernel specific involves kernel programming, kernel testing.\n",
    "\n",
    "#### Hardware Specific code: \n",
    "1. This code performs the operation on the target device.\n",
    "2. This code will be completely hardware specific like device/bus specific."
   ]
  },
  {
   "cell_type": "markdown",
   "metadata": {},
   "source": [
    "## User Interaction Code can be written in three ways:\n",
    "\n",
    "These are the three different ways of allowing the application to interface with the driver.\n",
    "1. Character Driver Approach\n",
    "2. Block Driver Approach\n",
    "3. Network Driver Approach\n"
   ]
  },
  {
   "cell_type": "markdown",
   "metadata": {},
   "source": [
    "## Char Driver Implementation\n",
    "As a system call vs As a device node file"
   ]
  },
  {
   "cell_type": "markdown",
   "metadata": {},
   "source": [
    "## Steps to implement and test char driver\n",
    "\n",
    "1. Create a Device Node File -- mknode\n",
    "2. Implement the driver operations and register with VFS layer. Now basically each driver is a file system.\n",
    "3. Insert the driver using a kernel module -- insmod\n",
    "4. Write an application to test the char driver"
   ]
  },
  {
   "cell_type": "markdown",
   "metadata": {},
   "source": [
    "### How to create a Device Node File"
   ]
  },
  {
   "cell_type": "markdown",
   "metadata": {
    "collapsed": true
   },
   "source": [
    "1. $mknod /location/device_file_name type_of_file_flag \n",
    "2. usually location /dev\n",
    "3. type_of_file: 'c' for char driver, 'b' for block driver\n",
    "4. Each driver will have a device_file and each device_file is identified by a unique id which formed by combining two different numbers referred as major and minor number. \n",
    "5. Internally device id is represented by a field in the inode structure for this particular device file. Each file has an inode and in the inode of this particular device file there is a field called device id of type dev_t.\n",
    "6. dev_t should be initialised by a device id value which is unique across all device files\n",
    "\n",
    "#### How to obtain unique major number or device_id?\n",
    "    1. cat /proc/devices -> Gives you a list a devices in use and their associated\n",
    "       device_id. Select a number that isn't currently in use."
   ]
  },
  {
   "cell_type": "markdown",
   "metadata": {},
   "source": [
    "#### Example\n",
    "mknod /dev/karthi_device c 300 3\n",
    "1. device_file_name: karthi_device\n",
    "2. location: /dev\n",
    "3. type: character driver\n",
    "4. major_number: 300\n",
    "5. minor_number: 3\n",
    "6. unique_id: 300 3\n",
    "\n",
    "##### Check\n",
    "ls -l /dev/karthi_device --- should show all the properties of the device file \"karthi_device\"\n"
   ]
  },
  {
   "cell_type": "markdown",
   "metadata": {},
   "source": [
    "### Skeleton of driver user interaction code\n",
    "\n",
    "1. #include file1, file2, .... fileN\n",
    "2. #define MAJORNO MINORNO DEVICENAME\n",
    "3. Allocate device buffer from kernel space based on the device support for things like DMA\n",
    "4. Define routines like char_dev_open(arg1, arg2), char_dev_release(arg1, arg2), char_dev_close(arg1, arg2), char_dev_read(arg1, arg2), char_dev_write(arg1, arg2)\n",
    "        a.arg1: struct inode* inode\n",
    "        b.arg2: struct file* file\n",
    "5. Register the addresses of these functions with VFS\n",
    "        "
   ]
  },
  {
   "cell_type": "markdown",
   "metadata": {},
   "source": [
    "#### Note\n",
    "We want VFS to direct all the request made by any user application to karthi_device through common API calls be directed to karthi_device file. For this to happen karthi_device has to be registered with VFS, since VFS is responsible for switching application requests to driver, we need to register addresses of the functions with VFS\n",
    "\n",
    "### How to register with VFS layer\n",
    "1. VFS provides a structure of function pointers with the name \"file_operations\" structure.\n",
    "2. file_operations structure is defined at \"vi /usr/src/current_linux_version/include/linux/fs.h\" as struct file_operations\n",
    "3. In struct file_operations you can find all the operations supported on a file, in our device_file we provide our own implemenatation for operations supported by creating an instance of type file_operations and assigining the pointers to the address of our functions.\n",
    "4. Bricreate the instance of file_operations and initialized the pointers of file_operations to the operations of our driver. \n",
    "        Example: struct file_operations my_instance = {\n",
    "        .open = char_dev_open;\n",
    "        .release = char_dev_release;\n",
    "        .close = char_dev_close;\n",
    "        .read = char_dev_read;\n",
    "        .write = char_dev_write;\n",
    "    };\n",
    "4. drivers should register their functions with VFS as instances of type file_operations"
   ]
  },
  {
   "cell_type": "markdown",
   "metadata": {},
   "source": [
    "### An application to test the char driver"
   ]
  },
  {
   "cell_type": "code",
   "execution_count": null,
   "metadata": {
    "collapsed": true
   },
   "outputs": [],
   "source": []
  }
 ],
 "metadata": {
  "kernelspec": {
   "display_name": "Python 3",
   "language": "python",
   "name": "python3"
  },
  "language_info": {
   "codemirror_mode": {
    "name": "ipython",
    "version": 3
   },
   "file_extension": ".py",
   "mimetype": "text/x-python",
   "name": "python",
   "nbconvert_exporter": "python",
   "pygments_lexer": "ipython3",
   "version": "3.6.3"
  }
 },
 "nbformat": 4,
 "nbformat_minor": 2
}
